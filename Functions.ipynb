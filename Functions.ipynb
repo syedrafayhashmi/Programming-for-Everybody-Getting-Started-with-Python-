{
 "cells": [
  {
   "cell_type": "code",
   "execution_count": null,
   "metadata": {},
   "outputs": [],
   "source": [
    "#Write a program to prompt the user for hours and rate per hour using input to compute gross pay.\n",
    "#Pay should be the normal rate for hours up to 40 and time-and-a-half for the hourly rate for all hours worked\n",
    "#above 40 hours. Put the logic to do the computation of pay in a function called computepay() \n",
    "#and use the function to do the computation. The function should return a value.\n",
    "#Use 45 hours and a rate of 10.50 per hour to test the program (the pay should be 498.75). \n",
    "#You should use input to read a string and float() to convert the string to a number. \n",
    "#Do not worry about error checking the user input unless you want to - \n",
    "#you can assume the user types numbers properly. Do not name your variable sum or use the sum() function."
   ]
  },
  {
   "cell_type": "code",
   "execution_count": 2,
   "metadata": {},
   "outputs": [
    {
     "name": "stdout",
     "output_type": "stream",
     "text": [
      "Enter Hours:45\n",
      "rate?10.5\n",
      "5.0\n",
      "5.0\n",
      "420.0\n",
      "498.75\n"
     ]
    },
    {
     "data": {
      "text/plain": [
       "498.75"
      ]
     },
     "execution_count": 2,
     "metadata": {},
     "output_type": "execute_result"
    }
   ],
   "source": [
    "def computepay(h,r):\n",
    "    if h>=40:\n",
    "        pt=h%40\n",
    "        a=float(pt)\n",
    "        print(a)\n",
    "    basic=(h-a)*r\n",
    "    new=a*1.5*r\n",
    "    final=new+basic\n",
    "    print(final)\n",
    "    return final\n",
    "\n",
    "hrs = input(\"Enter Hours:\")\n",
    "h = float(hrs)\n",
    "rate=input(\"rate?\")\n",
    "r=float(rate)\n",
    "computepay(h,r)\n"
   ]
  },
  {
   "cell_type": "code",
   "execution_count": null,
   "metadata": {},
   "outputs": [],
   "source": []
  }
 ],
 "metadata": {
  "kernelspec": {
   "display_name": "Python 3",
   "language": "python",
   "name": "python3"
  },
  "language_info": {
   "codemirror_mode": {
    "name": "ipython",
    "version": 3
   },
   "file_extension": ".py",
   "mimetype": "text/x-python",
   "name": "python",
   "nbconvert_exporter": "python",
   "pygments_lexer": "ipython3",
   "version": "3.7.3"
  }
 },
 "nbformat": 4,
 "nbformat_minor": 2
}
