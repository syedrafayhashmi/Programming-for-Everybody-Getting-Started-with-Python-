{
 "cells": [
  {
   "cell_type": "code",
   "execution_count": null,
   "metadata": {},
   "outputs": [],
   "source": [
    "#5.2 Write a program that repeatedly prompts a user for integer numbers until the user enters 'done'. \n",
    "#Once 'done' is entered, print out the largest and smallest of the numbers. \n",
    "#If the user enters anything other than a valid number catch it with a try/except and put out an appropriate message\n",
    "#and ignore the number. Enter 7, 2, bob, 10, and 4 and match the output below."
   ]
  },
  {
   "cell_type": "code",
   "execution_count": 52,
   "metadata": {},
   "outputs": [
    {
     "name": "stdout",
     "output_type": "stream",
     "text": [
      "How many numbers you want to enter4\n",
      "Enter number1:5\n",
      "5\n",
      "Enter number2:2\n",
      "2\n",
      "Enter number3:4\n",
      "4\n",
      "Enter number4:2\n",
      "2\n",
      "5\n",
      "2\n"
     ]
    }
   ],
   "source": [
    "my_list=[]\n",
    "count_num=int(input(\"How many numbers you want to enter\"))\n",
    "for i in range(count_num):\n",
    "    num=input(\"Enter number{}:\".format(i+1))\n",
    "    print(str(num))\n",
    "    my_list.append(num)\n",
    "print(max(my_list))\n",
    "print(min(my_list))\n",
    "\n",
    "                                       \n"
   ]
  },
  {
   "cell_type": "code",
   "execution_count": 62,
   "metadata": {},
   "outputs": [
    {
     "name": "stdout",
     "output_type": "stream",
     "text": [
      "Enter a number:7\n",
      "Enter a number:4\n",
      "Enter a number:bob\n",
      "Invalid input\n",
      "Maximum is 7\n",
      "Minimum is 4\n",
      "Enter a number:10\n",
      "Enter a number:2\n",
      "Enter a number:done\n"
     ]
    }
   ],
   "source": [
    "\n",
    "largest = None\n",
    "smallest = None\n",
    "while True: \n",
    "    num = input(\"Enter a number:\") \n",
    "    try: \n",
    "        if num == \"done\": break \n",
    "        number=int(num)\n",
    "        if smallest is None:\n",
    "            smallest=number\n",
    "        elif smallest > number: \n",
    "            smallest=number \n",
    "        if largest is None:\n",
    "            largest=number\n",
    "        elif largest < number:\n",
    "            largest=number\n",
    "    except:\n",
    "        print ('Invalid input')\n",
    "        print ('Maximum', 'is',largest)\n",
    "        print ('Minimum', 'is',smallest)"
   ]
  },
  {
   "cell_type": "code",
   "execution_count": null,
   "metadata": {},
   "outputs": [],
   "source": []
  }
 ],
 "metadata": {
  "kernelspec": {
   "display_name": "Python 3",
   "language": "python",
   "name": "python3"
  },
  "language_info": {
   "codemirror_mode": {
    "name": "ipython",
    "version": 3
   },
   "file_extension": ".py",
   "mimetype": "text/x-python",
   "name": "python",
   "nbconvert_exporter": "python",
   "pygments_lexer": "ipython3",
   "version": "3.7.3"
  }
 },
 "nbformat": 4,
 "nbformat_minor": 2
}
